{
 "cells": [
  {
   "cell_type": "code",
   "execution_count": 1,
   "metadata": {},
   "outputs": [],
   "source": [
    "import pandas as pd\n",
    "import numpy as np\n",
    "import matplotlib.pyplot as plt"
   ]
  },
  {
   "cell_type": "code",
   "execution_count": 55,
   "metadata": {},
   "outputs": [
    {
     "name": "stdout",
     "output_type": "stream",
     "text": [
      "3 10\n",
      "0 15\n",
      "10 5\n",
      "15 5\n"
     ]
    }
   ],
   "source": [
    "#Задача о непрерывном рюкзаке\n",
    "n, W = map(int, input().split())\n",
    "a = []\n",
    "for i in range(n):\n",
    "    a.append([int(j) for j in input().split()])"
   ]
  },
  {
   "cell_type": "code",
   "execution_count": 56,
   "metadata": {},
   "outputs": [],
   "source": [
    "rc=[]\n",
    "for i in range(len(a)):\n",
    "    rc.append(a[i][0]/a[i][1])\n",
    "    a[i].append(rc[i])\n",
    "rc\n",
    "\n",
    "list=sorted(a,key=lambda a:a[2])"
   ]
  },
  {
   "cell_type": "code",
   "execution_count": 58,
   "metadata": {},
   "outputs": [
    {
     "data": {
      "text/plain": [
       "'25.000'"
      ]
     },
     "execution_count": 58,
     "metadata": {},
     "output_type": "execute_result"
    }
   ],
   "source": [
    "weight=0\n",
    "money=0\n",
    "i=len(list)-1\n",
    "while(W>0 and i>=0):\n",
    "    if(list[i][1]>=W):\n",
    "        weight+=W\n",
    "        money+=W*list[i][2]\n",
    "    else:\n",
    "        weight+=list[i][1]\n",
    "        money+=list[i][0]\n",
    "    W-=weight\n",
    "    i-=1\n",
    "    \n",
    "'{:.3f}'.format(money)\n"
   ]
  },
  {
   "cell_type": "code",
   "execution_count": 59,
   "metadata": {},
   "outputs": [
    {
     "data": {
      "text/plain": [
       "10"
      ]
     },
     "execution_count": 59,
     "metadata": {},
     "output_type": "execute_result"
    }
   ],
   "source": [
    "weight"
   ]
  }
 ],
 "metadata": {
  "kernelspec": {
   "display_name": "Python 3",
   "language": "python",
   "name": "python3"
  },
  "language_info": {
   "codemirror_mode": {
    "name": "ipython",
    "version": 3
   },
   "file_extension": ".py",
   "mimetype": "text/x-python",
   "name": "python",
   "nbconvert_exporter": "python",
   "pygments_lexer": "ipython3",
   "version": "3.7.6"
  }
 },
 "nbformat": 4,
 "nbformat_minor": 4
}
